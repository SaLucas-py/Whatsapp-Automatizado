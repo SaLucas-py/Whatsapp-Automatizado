{
 "cells": [
  {
   "cell_type": "code",
   "execution_count": 43,
   "id": "decent-block",
   "metadata": {},
   "outputs": [],
   "source": [
    "import pandas as pd\n",
    "import time\n",
    "from selenium import webdriver\n",
    "from selenium.webdriver.common.keys import Keys\n",
    "import time\n",
    "import urllib\n",
    "\n"
   ]
  },
  {
   "cell_type": "code",
   "execution_count": 44,
   "id": "working-security",
   "metadata": {},
   "outputs": [
    {
     "data": {
      "text/html": [
       "<div>\n",
       "<style scoped>\n",
       "    .dataframe tbody tr th:only-of-type {\n",
       "        vertical-align: middle;\n",
       "    }\n",
       "\n",
       "    .dataframe tbody tr th {\n",
       "        vertical-align: top;\n",
       "    }\n",
       "\n",
       "    .dataframe thead th {\n",
       "        text-align: right;\n",
       "    }\n",
       "</style>\n",
       "<table border=\"1\" class=\"dataframe\">\n",
       "  <thead>\n",
       "    <tr style=\"text-align: right;\">\n",
       "      <th></th>\n",
       "      <th>Pessoa</th>\n",
       "      <th>Número</th>\n",
       "      <th>Mensagem</th>\n",
       "    </tr>\n",
       "  </thead>\n",
       "  <tbody>\n",
       "    <tr>\n",
       "      <th>0</th>\n",
       "      <td>Lucas</td>\n",
       "      <td>5521998235119</td>\n",
       "      <td>Coe, ta doidao?</td>\n",
       "    </tr>\n",
       "    <tr>\n",
       "      <th>1</th>\n",
       "      <td>Mãe</td>\n",
       "      <td>5521992689231</td>\n",
       "      <td>E aí, tudo bem?</td>\n",
       "    </tr>\n",
       "  </tbody>\n",
       "</table>\n",
       "</div>"
      ],
      "text/plain": [
       "  Pessoa         Número         Mensagem\n",
       "0  Lucas  5521998235119  Coe, ta doidao?\n",
       "1    Mãe  5521992689231  E aí, tudo bem?"
      ]
     },
     "metadata": {},
     "output_type": "display_data"
    }
   ],
   "source": [
    "dp = pd.read_excel('projeto.xlsx')\n",
    "display(dp)"
   ]
  },
  {
   "cell_type": "code",
   "execution_count": 45,
   "id": "amazing-reasoning",
   "metadata": {},
   "outputs": [],
   "source": [
    "navegador = webdriver.Chrome() \n",
    "navegador.get('https://web.whatsapp.com/')\n",
    "while len(navegador.find_elements_by_id('side'))<1:\n",
    "    time.sleep(2)\n",
    "    \n",
    "#Enviando as mensagens\n",
    "for i, mensagem in enumerate(contatos_df['Mensagem']):\n",
    "    pessoa = contatos_df.loc[i, 'Pessoa']\n",
    "    numero = contatos_df.loc[i, 'Número']\n",
    "    #CODIFICANDO AS MENSAGENS\n",
    "    texto = urllib.parse.quote(f\"oi, {pessoa} {mensagem}\")\n",
    "    link =  link = f'https://web.whatsapp.com/send?phone={numero}&text={texto}'\n",
    "    navegador.get(link) #Vai entrar no link da variavel (link)\n",
    "    while len(navegador.find_elements_by_id('side'))<1:\n",
    "        time.sleep(2)\n",
    "    navegador.find_element_by_xpath('//*[@id=\"main\"]/footer/div[1]/div[2]/div/div[2]').send_keys(Keys.ENTER)\n",
    "    time.sleep(10)\n",
    "    \n",
    "                                \n",
    "\n"
   ]
  },
  {
   "cell_type": "code",
   "execution_count": null,
   "id": "academic-sweet",
   "metadata": {},
   "outputs": [],
   "source": []
  }
 ],
 "metadata": {
  "kernelspec": {
   "display_name": "Python 3",
   "language": "python",
   "name": "python3"
  },
  "language_info": {
   "codemirror_mode": {
    "name": "ipython",
    "version": 3
   },
   "file_extension": ".py",
   "mimetype": "text/x-python",
   "name": "python",
   "nbconvert_exporter": "python",
   "pygments_lexer": "ipython3",
   "version": "3.9.2"
  }
 },
 "nbformat": 4,
 "nbformat_minor": 5
}
