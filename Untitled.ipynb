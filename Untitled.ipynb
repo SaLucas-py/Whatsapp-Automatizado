{
 "cells": [
  {
   "cell_type": "code",
   "execution_count": 43,
   "id": "decent-block",
   "metadata": {},
   "outputs": [],
   "source": [
    "import pandas as pd\n",
    "import time\n",
    "from selenium import webdriver\n",
    "from selenium.webdriver.common.keys import Keys\n",
    "import time\n",
    "import urllib\n",
    "\n"
   ]
  },
  {
   "cell_type": "code",
   "execution_count": 45,
   "id": "amazing-reasoning",
   "metadata": {},
   "outputs": [],
   "source": [
    "navegador = webdriver.Chrome() \n",
    "navegador.get('https://web.whatsapp.com/')\n",
    "while len(navegador.find_elements_by_id('side'))<1:\n",
    "    time.sleep(2)\n",
    "    \n",
    "#Enviando as mensagens\n",
    "for i, mensagem in enumerate(contatos_df['Mensagem']):\n",
    "    pessoa = contatos_df.loc[i, 'Pessoa']\n",
    "    numero = contatos_df.loc[i, 'Número']\n",
    "    #CODIFICANDO AS MENSAGENS\n",
    "    texto = urllib.parse.quote(f\"oi, {pessoa} {mensagem}\")\n",
    "    link =  link = f'https://web.whatsapp.com/send?phone={numero}&text={texto}'\n",
    "    navegador.get(link) #Vai entrar no link da variavel (link)\n",
    "    while len(navegador.find_elements_by_id('side'))<1:\n",
    "        time.sleep(2)\n",
    "    navegador.find_element_by_xpath('//*[@id=\"main\"]/footer/div[1]/div[2]/div/div[2]').send_keys(Keys.ENTER)\n",
    "    time.sleep(10)\n",
    "    \n",
    "                                \n",
    "\n"
   ]
  },
  {
   "cell_type": "code",
   "execution_count": null,
   "id": "academic-sweet",
   "metadata": {},
   "outputs": [],
   "source": []
  }
 ],
 "metadata": {
  "kernelspec": {
   "display_name": "Python 3",
   "language": "python",
   "name": "python3"
  },
  "language_info": {
   "codemirror_mode": {
    "name": "ipython",
    "version": 3
   },
   "file_extension": ".py",
   "mimetype": "text/x-python",
   "name": "python",
   "nbconvert_exporter": "python",
   "pygments_lexer": "ipython3",
   "version": "3.9.2"
  }
 },
 "nbformat": 4,
 "nbformat_minor": 5
}
